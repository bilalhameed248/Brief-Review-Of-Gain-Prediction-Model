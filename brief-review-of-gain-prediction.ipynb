{
 "cells": [
  {
   "cell_type": "markdown",
   "id": "4778c95f",
   "metadata": {},
   "source": [
    "Gain Extraction Model analyzes Patient Discharge Summaries and predicts the progress of a patient’s health. Gain Extraction Model can determine whether a patient has made any improvements in their health and if they have met their goals. This model offers an efficient and effective way to track a patient’s progress and ensure that they are receiving the best possible care."
   ]
  },
  {
   "cell_type": "markdown",
   "id": "085eec06",
   "metadata": {},
   "source": [
    "## Importing Necessary Libraries"
   ]
  },
  {
   "cell_type": "code",
   "execution_count": 1,
   "id": "0b3d63a8",
   "metadata": {},
   "outputs": [],
   "source": [
    "import warnings\n",
    "warnings.filterwarnings('ignore')\n",
    "import os, evaluate, torch, accelerate, nltk, re, datetime \n",
    "import pandas as pd\n",
    "from collections import Counter\n",
    "import numpy as np\n",
    "from datasets import load_dataset, Dataset, DatasetDict\n",
    "from transformers import BertTokenizer\n",
    "from transformers import AutoTokenizer, AutoModel\n",
    "from transformers import AutoModelForSequenceClassification\n",
    "from datasets import load_metric\n",
    "from transformers import TrainingArguments, Trainer\n",
    "from transformers import pipeline\n",
    "from nltk.corpus import stopwords\n",
    "from nltk.stem.porter import PorterStemmer\n",
    "from nltk.stem import WordNetLemmatizer\n",
    "from nltk.tokenize import word_tokenize\n",
    "from sklearn.metrics import confusion_matrix, accuracy_score\n",
    "from sklearn import metrics\n",
    "import seaborn as sns\n",
    "from pynvml import *\n",
    "from numba import cuda\n",
    "import matplotlib.pyplot as plt"
   ]
  },
  {
   "cell_type": "markdown",
   "id": "60c9835c",
   "metadata": {},
   "source": [
    "## Get Current Working Directory"
   ]
  },
  {
   "cell_type": "code",
   "execution_count": 2,
   "id": "01756186",
   "metadata": {},
   "outputs": [
    {
     "name": "stdout",
     "output_type": "stream",
     "text": [
      "CWD: /home/bilal/NLP/discharge_report_models/\n"
     ]
    }
   ],
   "source": [
    "my_dir = os.getcwd() + '/' \n",
    "print(f\"CWD: {my_dir}\")"
   ]
  },
  {
   "cell_type": "markdown",
   "id": "a2833e0b",
   "metadata": {},
   "source": [
    "## GPU Configuration"
   ]
  },
  {
   "cell_type": "markdown",
   "id": "14f3b562",
   "metadata": {},
   "source": [
    "<p> Reset Cuda Memory</p>"
   ]
  },
  {
   "cell_type": "code",
   "execution_count": 3,
   "id": "45ce30da",
   "metadata": {},
   "outputs": [],
   "source": [
    "device = cuda.get_current_device()\n",
    "device.reset()\n",
    "with torch.no_grad():\n",
    "    torch.cuda.empty_cache()"
   ]
  },
  {
   "cell_type": "markdown",
   "id": "55ec71aa",
   "metadata": {},
   "source": [
    "<p>Check Memory</p>"
   ]
  },
  {
   "cell_type": "code",
   "execution_count": 4,
   "id": "e36552e9",
   "metadata": {},
   "outputs": [
    {
     "name": "stdout",
     "output_type": "stream",
     "text": [
      "Total    : 11176 MB\n",
      "Free     : 11155 MB\n",
      "Used     : 21 MB\n"
     ]
    }
   ],
   "source": [
    "nvmlInit()\n",
    "h = nvmlDeviceGetHandleByIndex(0)\n",
    "info = nvmlDeviceGetMemoryInfo(h)\n",
    "print(f'Total    : {info.total//1024**2} MB')\n",
    "print(f'Free     : {info.free//1024**2} MB')\n",
    "print(f'Used     : {info.used//1024**2} MB')"
   ]
  },
  {
   "cell_type": "markdown",
   "id": "c8ab82b5",
   "metadata": {},
   "source": [
    "### Get Cuda Device"
   ]
  },
  {
   "cell_type": "code",
   "execution_count": 5,
   "id": "6196c9c4",
   "metadata": {},
   "outputs": [
    {
     "data": {
      "text/plain": [
       "device(type='cuda', index=0)"
      ]
     },
     "execution_count": 5,
     "metadata": {},
     "output_type": "execute_result"
    }
   ],
   "source": [
    "devices = torch.device(\"cuda:0\" if torch.cuda.is_available() else \"cpu\") \n",
    "devices"
   ]
  },
  {
   "cell_type": "markdown",
   "id": "141073b8",
   "metadata": {},
   "source": [
    "## Load Dataset"
   ]
  },
  {
   "cell_type": "code",
   "execution_count": 6,
   "id": "8eed33b5",
   "metadata": {},
   "outputs": [
    {
     "data": {
      "text/html": [
       "<div>\n",
       "<style scoped>\n",
       "    .dataframe tbody tr th:only-of-type {\n",
       "        vertical-align: middle;\n",
       "    }\n",
       "\n",
       "    .dataframe tbody tr th {\n",
       "        vertical-align: top;\n",
       "    }\n",
       "\n",
       "    .dataframe thead th {\n",
       "        text-align: right;\n",
       "    }\n",
       "</style>\n",
       "<table border=\"1\" class=\"dataframe\">\n",
       "  <thead>\n",
       "    <tr style=\"text-align: right;\">\n",
       "      <th></th>\n",
       "      <th>label</th>\n",
       "      <th>text</th>\n",
       "    </tr>\n",
       "  </thead>\n",
       "  <tbody>\n",
       "    <tr>\n",
       "      <th>0</th>\n",
       "      <td>1</td>\n",
       "      <td>Patient has shown improvement with functional ...</td>\n",
       "    </tr>\n",
       "    <tr>\n",
       "      <th>1</th>\n",
       "      <td>0</td>\n",
       "      <td>DC from skilled PT services d/t patient reache...</td>\n",
       "    </tr>\n",
       "    <tr>\n",
       "      <th>2</th>\n",
       "      <td>0</td>\n",
       "      <td>Reconnect after 3 months.</td>\n",
       "    </tr>\n",
       "    <tr>\n",
       "      <th>3</th>\n",
       "      <td>0</td>\n",
       "      <td>This patient has been seen since 11/18/22 by s...</td>\n",
       "    </tr>\n",
       "    <tr>\n",
       "      <th>4</th>\n",
       "      <td>0</td>\n",
       "      <td>During his POC, he had a transition of a prima...</td>\n",
       "    </tr>\n",
       "  </tbody>\n",
       "</table>\n",
       "</div>"
      ],
      "text/plain": [
       "   label                                               text\n",
       "0      1  Patient has shown improvement with functional ...\n",
       "1      0  DC from skilled PT services d/t patient reache...\n",
       "2      0                          Reconnect after 3 months.\n",
       "3      0  This patient has been seen since 11/18/22 by s...\n",
       "4      0  During his POC, he had a transition of a prima..."
      ]
     },
     "execution_count": 6,
     "metadata": {},
     "output_type": "execute_result"
    }
   ],
   "source": [
    "df = pd.read_csv('brog_train1_Updated.csv')\n",
    "df.head()"
   ]
  },
  {
   "cell_type": "markdown",
   "id": "43eafab1",
   "metadata": {},
   "source": [
    "<p>Check Empty Rows</p>"
   ]
  },
  {
   "cell_type": "code",
   "execution_count": 7,
   "id": "9db2bb3d",
   "metadata": {},
   "outputs": [
    {
     "name": "stdout",
     "output_type": "stream",
     "text": [
      "Empty Label: 0\n",
      "Empty Sentence: 0\n"
     ]
    }
   ],
   "source": [
    "print(f\"Empty Label: {len(df[pd.isnull(df['label'])])}\\nEmpty Sentence: {len(df[pd.isnull(df['text'])])}\")"
   ]
  },
  {
   "cell_type": "markdown",
   "id": "a262ee46",
   "metadata": {},
   "source": [
    "## Visualizing and Summarizing Label Distribution in DataFrame 'df'"
   ]
  },
  {
   "cell_type": "code",
   "execution_count": 8,
   "id": "1d121464",
   "metadata": {},
   "outputs": [
    {
     "name": "stdout",
     "output_type": "stream",
     "text": [
      "label\n",
      "0    1750\n",
      "1     716\n",
      "Name: count, dtype: int64\n"
     ]
    },
    {
     "data": {
      "image/png": "[encoded data removed]",
      "text/plain": [
       "<Figure size 640x480 with 1 Axes>"
      ]
     },
     "metadata": {},
     "output_type": "display_data"
    }
   ],
   "source": [
    "sns.countplot(x='label', data=df, hue='label')\n",
    "print(df['label'].value_counts())"
   ]
  },
  {
   "cell_type": "markdown",
   "id": "c467e2c2",
   "metadata": {},
   "source": [
    "It's evident that we're facing a class imbalance issue here. To tackle this, we need to apply majority downsampling, which involves reducing the number of instances in the majority class to align with the number of instances in the minority class. In this scenario, it appears that the majority class comprises 1750 instances, whereas the minority class only has 716 instances."
   ]
  },
  {
   "cell_type": "markdown",
   "id": "96b01fc1",
   "metadata": {},
   "source": [
    "## Cleansing Processes"
   ]
  },
  {
   "cell_type": "markdown",
   "id": "92f28c4a",
   "metadata": {},
   "source": [
    "All I did was do some cleansing processes, including removing some patterns, punctuations, English stop words  and rows with word count less then 3."
   ]
  },
  {
   "cell_type": "code",
   "execution_count": 9,
   "id": "90d2d41e",
   "metadata": {},
   "outputs": [],
   "source": [
    "wordnet=WordNetLemmatizer()\n",
    "corpus=[]\n",
    "def preprossing(row):\n",
    "    my_words1=[]\n",
    "    my_words1 = re.sub('[^a-zA-Z]',' ', row)\n",
    "    my_words1 = my_words1.lower().strip()\n",
    "    my_words1 = my_words1.split()\n",
    "    my_words1 = [wordnet.lemmatize(word) for word in my_words1 if not word in set(stopwords.words('english'))]\n",
    "    my_words1 =  \" \".join(my_words1)\n",
    "    return my_words1\n",
    "\n",
    "for i in range(len(df)):\n",
    "    corpus.append(preprossing(df['text'][i]))"
   ]
  },
  {
   "cell_type": "code",
   "execution_count": 10,
   "id": "4d7d914a",
   "metadata": {},
   "outputs": [
    {
     "data": {
      "text/html": [
       "<div>\n",
       "<style scoped>\n",
       "    .dataframe tbody tr th:only-of-type {\n",
       "        vertical-align: middle;\n",
       "    }\n",
       "\n",
       "    .dataframe tbody tr th {\n",
       "        vertical-align: top;\n",
       "    }\n",
       "\n",
       "    .dataframe thead th {\n",
       "        text-align: right;\n",
       "    }\n",
       "</style>\n",
       "<table border=\"1\" class=\"dataframe\">\n",
       "  <thead>\n",
       "    <tr style=\"text-align: right;\">\n",
       "      <th></th>\n",
       "      <th>sentence</th>\n",
       "      <th>label</th>\n",
       "    </tr>\n",
       "  </thead>\n",
       "  <tbody>\n",
       "    <tr>\n",
       "      <th>0</th>\n",
       "      <td>patient shown improvement functional transfer ...</td>\n",
       "      <td>1</td>\n",
       "    </tr>\n",
       "    <tr>\n",
       "      <th>1</th>\n",
       "      <td>dc skilled pt service patient reached maximum ...</td>\n",
       "      <td>0</td>\n",
       "    </tr>\n",
       "    <tr>\n",
       "      <th>2</th>\n",
       "      <td>reconnect month</td>\n",
       "      <td>0</td>\n",
       "    </tr>\n",
       "    <tr>\n",
       "      <th>3</th>\n",
       "      <td>patient seen since skilled pt</td>\n",
       "      <td>0</td>\n",
       "    </tr>\n",
       "    <tr>\n",
       "      <th>4</th>\n",
       "      <td>poc transition primary physical therapist may ...</td>\n",
       "      <td>0</td>\n",
       "    </tr>\n",
       "  </tbody>\n",
       "</table>\n",
       "</div>"
      ],
      "text/plain": [
       "                                            sentence  label\n",
       "0  patient shown improvement functional transfer ...      1\n",
       "1  dc skilled pt service patient reached maximum ...      0\n",
       "2                                    reconnect month      0\n",
       "3                      patient seen since skilled pt      0\n",
       "4  poc transition primary physical therapist may ...      0"
      ]
     },
     "execution_count": 10,
     "metadata": {},
     "output_type": "execute_result"
    }
   ],
   "source": [
    "processed_df = pd.DataFrame({'sentence': corpus, 'label': df['label']})\n",
    "processed_df.head()"
   ]
  },
  {
   "cell_type": "markdown",
   "id": "66d9ff1c",
   "metadata": {},
   "source": [
    "### Majority Downsampling"
   ]
  },
  {
   "cell_type": "markdown",
   "id": "7a267794",
   "metadata": {},
   "source": [
    "To perform majority downsampling, we will remove rows with words count less than 8, as they contribute less to model performance."
   ]
  },
  {
   "cell_type": "code",
   "execution_count": 11,
   "id": "6fd0cab8",
   "metadata": {},
   "outputs": [
    {
     "name": "stdout",
     "output_type": "stream",
     "text": [
      "Number of rows with word length less then 3: 833\n"
     ]
    },
    {
     "data": {
      "text/html": [
       "<div>\n",
       "<style scoped>\n",
       "    .dataframe tbody tr th:only-of-type {\n",
       "        vertical-align: middle;\n",
       "    }\n",
       "\n",
       "    .dataframe tbody tr th {\n",
       "        vertical-align: top;\n",
       "    }\n",
       "\n",
       "    .dataframe thead th {\n",
       "        text-align: right;\n",
       "    }\n",
       "</style>\n",
       "<table border=\"1\" class=\"dataframe\">\n",
       "  <thead>\n",
       "    <tr style=\"text-align: right;\">\n",
       "      <th></th>\n",
       "      <th>sentence</th>\n",
       "      <th>label</th>\n",
       "    </tr>\n",
       "  </thead>\n",
       "  <tbody>\n",
       "    <tr>\n",
       "      <th>2</th>\n",
       "      <td>reconnect month</td>\n",
       "      <td>0</td>\n",
       "    </tr>\n",
       "    <tr>\n",
       "      <th>3</th>\n",
       "      <td>patient seen since skilled pt</td>\n",
       "      <td>0</td>\n",
       "    </tr>\n",
       "    <tr>\n",
       "      <th>5</th>\n",
       "      <td>made slow progress throughout poc continues fa...</td>\n",
       "      <td>0</td>\n",
       "    </tr>\n",
       "    <tr>\n",
       "      <th>7</th>\n",
       "      <td>continues fall however fall preventative use u...</td>\n",
       "      <td>0</td>\n",
       "    </tr>\n",
       "    <tr>\n",
       "      <th>12</th>\n",
       "      <td>complained cramping time rle since change wate...</td>\n",
       "      <td>0</td>\n",
       "    </tr>\n",
       "    <tr>\n",
       "      <th>16</th>\n",
       "      <td>follow month</td>\n",
       "      <td>0</td>\n",
       "    </tr>\n",
       "    <tr>\n",
       "      <th>25</th>\n",
       "      <td>patient discharged today</td>\n",
       "      <td>0</td>\n",
       "    </tr>\n",
       "    <tr>\n",
       "      <th>27</th>\n",
       "      <td>pt report falling secondary impairment listed ...</td>\n",
       "      <td>0</td>\n",
       "    </tr>\n",
       "    <tr>\n",
       "      <th>34</th>\n",
       "      <td>patient met applicable goal therapy discharged...</td>\n",
       "      <td>0</td>\n",
       "    </tr>\n",
       "    <tr>\n",
       "      <th>36</th>\n",
       "      <td>pt also found mass lung biopsied result pending</td>\n",
       "      <td>0</td>\n",
       "    </tr>\n",
       "  </tbody>\n",
       "</table>\n",
       "</div>"
      ],
      "text/plain": [
       "                                             sentence  label\n",
       "2                                     reconnect month      0\n",
       "3                       patient seen since skilled pt      0\n",
       "5   made slow progress throughout poc continues fa...      0\n",
       "7   continues fall however fall preventative use u...      0\n",
       "12  complained cramping time rle since change wate...      0\n",
       "16                                       follow month      0\n",
       "25                           patient discharged today      0\n",
       "27  pt report falling secondary impairment listed ...      0\n",
       "34  patient met applicable goal therapy discharged...      0\n",
       "36    pt also found mass lung biopsied result pending      0"
      ]
     },
     "execution_count": 11,
     "metadata": {},
     "output_type": "execute_result"
    }
   ],
   "source": [
    "df_filtered = processed_df[processed_df['label'] == 0]\n",
    "df_filtered = df_filtered[df_filtered['sentence'].apply(lambda x: len(x.split()) <= 8)]\n",
    "print(f\"Number of rows with word length less then 3: {len(df_filtered)}\")\n",
    "df_filtered.head(10)"
   ]
  },
  {
   "cell_type": "markdown",
   "id": "3c6ce3af",
   "metadata": {},
   "source": [
    "### Remove rows with word count less then 8"
   ]
  },
  {
   "cell_type": "code",
   "execution_count": 12,
   "id": "b8883078",
   "metadata": {},
   "outputs": [
    {
     "data": {
      "text/html": [
       "<div>\n",
       "<style scoped>\n",
       "    .dataframe tbody tr th:only-of-type {\n",
       "        vertical-align: middle;\n",
       "    }\n",
       "\n",
       "    .dataframe tbody tr th {\n",
       "        vertical-align: top;\n",
       "    }\n",
       "\n",
       "    .dataframe thead th {\n",
       "        text-align: right;\n",
       "    }\n",
       "</style>\n",
       "<table border=\"1\" class=\"dataframe\">\n",
       "  <thead>\n",
       "    <tr style=\"text-align: right;\">\n",
       "      <th></th>\n",
       "      <th>sentence</th>\n",
       "      <th>label</th>\n",
       "    </tr>\n",
       "  </thead>\n",
       "  <tbody>\n",
       "    <tr>\n",
       "      <th>0</th>\n",
       "      <td>patient shown improvement functional transfer ...</td>\n",
       "      <td>1</td>\n",
       "    </tr>\n",
       "    <tr>\n",
       "      <th>1</th>\n",
       "      <td>dc skilled pt service patient reached maximum ...</td>\n",
       "      <td>0</td>\n",
       "    </tr>\n",
       "    <tr>\n",
       "      <th>2</th>\n",
       "      <td>poc transition primary physical therapist may ...</td>\n",
       "      <td>0</td>\n",
       "    </tr>\n",
       "    <tr>\n",
       "      <th>3</th>\n",
       "      <td>however demonstrated mild improvement confiden...</td>\n",
       "      <td>1</td>\n",
       "    </tr>\n",
       "    <tr>\n",
       "      <th>4</th>\n",
       "      <td>majority fall occurred without using ustep due...</td>\n",
       "      <td>0</td>\n",
       "    </tr>\n",
       "  </tbody>\n",
       "</table>\n",
       "</div>"
      ],
      "text/plain": [
       "                                            sentence  label\n",
       "0  patient shown improvement functional transfer ...      1\n",
       "1  dc skilled pt service patient reached maximum ...      0\n",
       "2  poc transition primary physical therapist may ...      0\n",
       "3  however demonstrated mild improvement confiden...      1\n",
       "4  majority fall occurred without using ustep due...      0"
      ]
     },
     "execution_count": 12,
     "metadata": {},
     "output_type": "execute_result"
    }
   ],
   "source": [
    "indices_to_remove = df_filtered.index\n",
    "processed_df = processed_df.drop(indices_to_remove)\n",
    "processed_df = processed_df.reset_index(drop=True)\n",
    "processed_df.head()"
   ]
  },
  {
   "cell_type": "markdown",
   "id": "cc282803",
   "metadata": {},
   "source": [
    "### Visualizing and Summarizing Label Distribution in DataFrame 'processed_df' after Majority Downsampling"
   ]
  },
  {
   "cell_type": "code",
   "execution_count": 13,
   "id": "939c572e",
   "metadata": {},
   "outputs": [
    {
     "name": "stdout",
     "output_type": "stream",
     "text": [
      "label\n",
      "0    917\n",
      "1    716\n",
      "Name: count, dtype: int64\n"
     ]
    },
    {
     "data": {
      "image/png": "[encoded data removed]",
      "text/plain": [
       "<Figure size 640x480 with 1 Axes>"
      ]
     },
     "metadata": {},
     "output_type": "display_data"
    }
   ],
   "source": [
    "sns.countplot(x='label', data=processed_df, hue='label')\n",
    "print(processed_df['label'].value_counts())"
   ]
  },
  {
   "cell_type": "code",
   "execution_count": 14,
   "id": "2ff5ca4d",
   "metadata": {},
   "outputs": [],
   "source": [
    "# processed_df.to_csv('processed_df.csv', index=False)"
   ]
  },
  {
   "cell_type": "markdown",
   "id": "4e303730",
   "metadata": {},
   "source": [
    "## Most Common Phrases"
   ]
  },
  {
   "cell_type": "code",
   "execution_count": 15,
   "id": "01fff758",
   "metadata": {},
   "outputs": [],
   "source": [
    "# Tokenize sentences and count occurrences for each class label\n",
    "token_counts = {}\n",
    "for label in [0, 1]:\n",
    "    label_data = processed_df[processed_df['label'] == label]['sentence']\n",
    "    all_tokens = [token for sent in label_data for token in word_tokenize(sent)]\n",
    "    token_counts[label] = Counter(all_tokens)\n",
    "\n",
    "# Extract 10 most common phrases for each class label\n",
    "plot_data = []\n",
    "for label, counts in token_counts.items():\n",
    "    top_phrases = counts.most_common(10)\n",
    "    for phrase, count in top_phrases:\n",
    "        plot_data.append({'Phrase': phrase, 'Count': count})\n",
    "\n",
    "plot_df_0 = pd.DataFrame(plot_data[:10])\n",
    "plot_df_1 = pd.DataFrame(plot_data[10:])"
   ]
  },
  {
   "cell_type": "markdown",
   "id": "efb7639a",
   "metadata": {},
   "source": [
    "### 10 most common phrases for 0 class label"
   ]
  },
  {
   "cell_type": "code",
   "execution_count": 16,
   "id": "2df54811",
   "metadata": {},
   "outputs": [
    {
     "data": {
      "image/png": "[encoded data removed]",
      "text/plain": [
       "<Figure size 1500x400 with 1 Axes>"
      ]
     },
     "metadata": {},
     "output_type": "display_data"
    }
   ],
   "source": [
    "plt.figure(figsize=(15, 4))\n",
    "ax = sns.barplot(data=plot_df_0, x=\"Phrase\", y=\"Count\")\n",
    "ax.set(ylabel='Count')\n",
    "plt.xticks(rotation=45)\n",
    "plt.show()"
   ]
  },
  {
   "cell_type": "markdown",
   "id": "14a03712",
   "metadata": {},
   "source": [
    "### 10 most common phrases for 1 class label"
   ]
  },
  {
   "cell_type": "code",
   "execution_count": 17,
   "id": "6bc40acf",
   "metadata": {},
   "outputs": [
    {
     "data": {
      "image/png": "[encoded data removed]",
      "text/plain": [
       "<Figure size 1500x400 with 1 Axes>"
      ]
     },
     "metadata": {},
     "output_type": "display_data"
    }
   ],
   "source": [
    "plt.figure(figsize=(15, 4))\n",
    "ax = sns.barplot(data=plot_df_1, x=\"Phrase\", y=\"Count\")\n",
    "ax.set(ylabel='Count')\n",
    "plt.xticks(rotation=45)\n",
    "plt.show()"
   ]
  },
  {
   "cell_type": "markdown",
   "id": "323de154",
   "metadata": {},
   "source": [
    "## Load Pre-Processed Dataset"
   ]
  },
  {
   "cell_type": "markdown",
   "id": "024b1f1c",
   "metadata": {},
   "source": [
    "Split dataset to train, test and validation sets"
   ]
  },
  {
   "cell_type": "code",
   "execution_count": 56,
   "id": "05368490",
   "metadata": {},
   "outputs": [
    {
     "data": {
      "text/plain": [
       "DatasetDict({\n",
       "    train: Dataset({\n",
       "        features: ['sentence', 'label'],\n",
       "        num_rows: 1306\n",
       "    })\n",
       "    validate: Dataset({\n",
       "        features: ['sentence', 'label'],\n",
       "        num_rows: 163\n",
       "    })\n",
       "    test: Dataset({\n",
       "        features: ['sentence', 'label'],\n",
       "        num_rows: 164\n",
       "    })\n",
       "})"
      ]
     },
     "execution_count": 56,
     "metadata": {},
     "output_type": "execute_result"
    }
   ],
   "source": [
    "# dataset = load_dataset('csv', data_files={'train': './processed_df.csv'}, split=\"train\")\n",
    "# dataset = load_dataset('csv', data_files={'train': './brog_train1.csv', 'test': './brog_test1.csv'})\n",
    "data_dict = processed_df.to_dict(orient=\"list\")\n",
    "dataset = Dataset.from_dict(data_dict)\n",
    "train_remaining_split = dataset.train_test_split(test_size=0.20)\n",
    "test_validation_split = train_remaining_split['test'].train_test_split(test_size=0.50)\n",
    "\n",
    "# Now you have train, validation, and test sets\n",
    "train_set = train_remaining_split['train']\n",
    "validation_set = test_validation_split['train']\n",
    "test_set = test_validation_split['test']\n",
    "\n",
    "dataset = DatasetDict({\n",
    "    'train': train_set,\n",
    "    'validate': validation_set,\n",
    "    'test': test_set\n",
    "    })\n",
    "\n",
    "\n",
    "dataset"
   ]
  },
  {
   "cell_type": "markdown",
   "id": "314edeb1",
   "metadata": {},
   "source": [
    "<h2>Bio_ClinicalBERT</h2>\n",
    "\n",
    "<p>The Bio_ClinicalBERT model was trained on all notes from MIMIC III, a database containing electronic health records from ICU patients at the Beth Israel Hospital in Boston, MA. For more details on MIMIC, see here. All notes from the NOTEEVENTS table were included (~880M words).</p>\n",
    "<p>Each note in MIMIC was first split into sections using a rules-based section splitter (e.g. discharge summary notes were split into \"History of Present Illness\", \"Family History\", \"Brief Hospital Course\", etc. sections). Then each section was split into sentences using SciSpacy (en core sci md tokenizer).</p>\n",
    "\n",
    "<a href=\"https://huggingface.co/emilyalsentzer/Bio_ClinicalBERT\"><p>For More Information Click Here</p> <a/>"
   ]
  },
  {
   "cell_type": "markdown",
   "id": "d207d44a",
   "metadata": {},
   "source": [
    "## Load & Save Pre-Trained Tokenizer"
   ]
  },
  {
   "cell_type": "markdown",
   "id": "743dfaf1",
   "metadata": {},
   "source": [
    "If the tokenizer is not saved in the local directory, please uncomment the following cell code and execute it."
   ]
  },
  {
   "cell_type": "code",
   "execution_count": 57,
   "id": "f0b97521",
   "metadata": {},
   "outputs": [],
   "source": [
    "# tokenizer = AutoTokenizer.from_pretrained('emilyalsentzer/Bio_ClinicalBERT')\n",
    "# tokenizer.save_pretrained(my_dir+\"save_tokenizer_bcb\")"
   ]
  },
  {
   "cell_type": "markdown",
   "id": "219aad0d",
   "metadata": {},
   "source": [
    "### Load Pre-Trained Tokenizer locally"
   ]
  },
  {
   "cell_type": "code",
   "execution_count": 58,
   "id": "cd6ae6ab",
   "metadata": {},
   "outputs": [],
   "source": [
    "tokenizer = AutoTokenizer.from_pretrained('./save_tokenizer_bcb/')"
   ]
  },
  {
   "cell_type": "markdown",
   "id": "05033eb7",
   "metadata": {},
   "source": [
    "## Load & Save Pre-Trained Model"
   ]
  },
  {
   "cell_type": "markdown",
   "id": "8d6d9ce4",
   "metadata": {},
   "source": [
    "If the model is not saved in the local directory, please uncomment the following cell code and execute it."
   ]
  },
  {
   "cell_type": "code",
   "execution_count": 59,
   "id": "f8b01a16",
   "metadata": {},
   "outputs": [],
   "source": [
    "# pre_trained_model = AutoModelForSequenceClassification.from_pretrained(\"emilyalsentzer/Bio_ClinicalBERT\", num_labels=2)\n",
    "# pre_trained_model.save_pretrained(my_dir+\"save_model_bcb\")"
   ]
  },
  {
   "cell_type": "markdown",
   "id": "765c7c4e",
   "metadata": {},
   "source": [
    "### Load Pre-Trained Model locally"
   ]
  },
  {
   "cell_type": "code",
   "execution_count": 60,
   "id": "fa3dd105",
   "metadata": {},
   "outputs": [],
   "source": [
    "pre_trained_model = AutoModelForSequenceClassification.from_pretrained(\"./save_model_bcb/\", num_labels=2)"
   ]
  },
  {
   "cell_type": "markdown",
   "id": "3b3abcc5",
   "metadata": {},
   "source": [
    "## Before Fine-Tuning Result (Bio_ClinicalBERT):"
   ]
  },
  {
   "cell_type": "markdown",
   "id": "bfe8f82c",
   "metadata": {},
   "source": [
    "#### Check Max Length of sequences in dataset and Update max_length paraameter in tokenizer."
   ]
  },
  {
   "cell_type": "code",
   "execution_count": 61,
   "id": "af57f521",
   "metadata": {},
   "outputs": [
    {
     "name": "stdout",
     "output_type": "stream",
     "text": [
      "Maximum sequence lengths for each split:\n",
      "{'train': 112, 'validate': 60, 'test': 52}\n"
     ]
    }
   ],
   "source": [
    "max_lengths = {}\n",
    "\n",
    "# Iterate over each split\n",
    "for split in dataset.keys():\n",
    "    max_length = 0\n",
    "    \n",
    "    # Iterate over examples in the split\n",
    "    for example in dataset[split]:\n",
    "        # Tokenize the text\n",
    "        tokenized_text = tokenizer(example['sentence'])\n",
    "        \n",
    "        # Get the length of the tokenized sequence\n",
    "        sequence_length = len(tokenized_text['input_ids'])\n",
    "        \n",
    "        # Update max_length if necessary\n",
    "        if sequence_length > max_length:\n",
    "            max_length = sequence_length\n",
    "    \n",
    "    # Store the max length for the split\n",
    "    max_lengths[split] = max_length\n",
    "\n",
    "print(\"Maximum sequence lengths for each split:\")\n",
    "print(max_lengths)"
   ]
  },
  {
   "cell_type": "markdown",
   "id": "d5098a12",
   "metadata": {},
   "source": [
    "### Use confusion matrix to evaluate the accuracy of pre-trained model result"
   ]
  },
  {
   "cell_type": "code",
   "execution_count": 62,
   "id": "7831b4c8",
   "metadata": {},
   "outputs": [
    {
     "name": "stdout",
     "output_type": "stream",
     "text": [
      "Test Set Length: 164\n",
      "Actual/True +ve: 70 \n",
      "Actual/True -ve: 94\n"
     ]
    }
   ],
   "source": [
    "print(f\"Test Set Length: {len(dataset['test']['label'])}\")\n",
    "true_pos = len([i for i in dataset['test']['label'] if i == 1])\n",
    "true_neg = len([i for i in dataset['test']['label'] if i == 0])\n",
    "print(f\"Actual/True +ve: {true_pos} \\nActual/True -ve: {true_neg}\")"
   ]
  },
  {
   "cell_type": "markdown",
   "id": "0855676a",
   "metadata": {},
   "source": [
    "Confusion Matrix"
   ]
  },
  {
   "cell_type": "markdown",
   "id": "e2fef857",
   "metadata": {},
   "source": [
    "<img src=\"https://miro.medium.com/v2/resize:fit:1218/1*jMs1RmSwnYgR9CsBw-z1dw.png\" alt=\"Girl in a jacket\" width=\"500\" height=\"600\">"
   ]
  },
  {
   "cell_type": "markdown",
   "id": "c63cf75b",
   "metadata": {},
   "source": [
    "Based on the maximum sequence we you have obtained for each split:\n",
    "\n",
    "For the train split, the maximum sequence length is 112.\n",
    "For the validate split, the maximum sequence length is 55.\n",
    "For the test split, the maximum sequence length is 63.\n",
    "You should choose a max_length that is larger than the maximum sequence length across all splits to ensure that no sequences get truncated during tokenization. A common approach is to choose a max_length that is slightly larger than the longest sequence in your dataset.\n",
    "\n",
    "In this case, we could set the max_length to a value slightly higher than the maximum sequence length across all splits, such as 120 or 130, to provide some buffer room for longer sequences.\n",
    "\n",
    "So, a suitable choice for max_length in your tokenizer could be 130. This ensures that all sequences in your dataset will be accommodated without truncation."
   ]
  },
  {
   "cell_type": "code",
   "execution_count": 63,
   "id": "08ab5b4f",
   "metadata": {},
   "outputs": [
    {
     "name": "stdout",
     "output_type": "stream",
     "text": [
      "+ve Pred: 120 \n",
      "-ve Pred: 44 \n",
      "\n",
      "\n",
      "Accuracy: 0.4634146341463415\n"
     ]
    },
    {
     "data": {
      "image/png": "[encoded data removed]",
      "text/plain": [
       "<Figure size 640x480 with 2 Axes>"
      ]
     },
     "metadata": {},
     "output_type": "display_data"
    }
   ],
   "source": [
    "def tokenize_data(data):\n",
    "    tokenized_data = tokenizer(data[\"sentence\"], padding='max_length', max_length=130, truncation=True, return_tensors=\"pt\")\n",
    "    return tokenized_data\n",
    "\n",
    "test_data = tokenize_data(dataset['test'])\n",
    "# Define a function for evaluating the model\n",
    "def evaluate_model(model, test_data):\n",
    "    # Set the model to evaluation mode\n",
    "    model.eval()\n",
    "    \n",
    "    # Disable gradients\n",
    "    with torch.no_grad():\n",
    "        # Move input tensors to the device\n",
    "        input_ids = test_data['input_ids'].to(model.device)\n",
    "        attention_mask = test_data['attention_mask'].to(model.device)\n",
    "        \n",
    "        # Forward pass\n",
    "        outputs = model(input_ids, attention_mask=attention_mask)\n",
    "        logits = outputs.logits\n",
    "        \n",
    "        # Get predicted labels\n",
    "        predicted_labels = np.argmax(logits.cpu().numpy(), axis=1)\n",
    "    \n",
    "    return predicted_labels\n",
    "\n",
    "# Evaluate the model on test data\n",
    "predicted_labels = evaluate_model(pre_trained_model, test_data)\n",
    "\n",
    "# Total Positive and Negative Prediction made:\n",
    "pos_pred = len([i for i in predicted_labels if i == 1])\n",
    "neg_pred = len([i for i in predicted_labels if i == 0])\n",
    "print(f\"+ve Pred: {pos_pred} \\n-ve Pred: {neg_pred} \\n\\n\")\n",
    "\n",
    "# Get true labels\n",
    "true_labels = dataset['test']['label']\n",
    "\n",
    "# Compute confusion matrix\n",
    "conf_matrix = confusion_matrix(true_labels, list(predicted_labels))\n",
    "\n",
    "\n",
    "# Compute accuracy\n",
    "accuracy = accuracy_score(true_labels, list(predicted_labels))\n",
    "print(\"Accuracy:\", accuracy)\n",
    "\n",
    "cm_display = metrics.ConfusionMatrixDisplay(confusion_matrix = conf_matrix, display_labels = [False, True])\n",
    "cm_display.plot()\n",
    "plt.show()"
   ]
  },
  {
   "cell_type": "markdown",
   "id": "6998e685",
   "metadata": {},
   "source": [
    "Here you can see that before fine-tuning, we achieved a 50% accuracy on the test dataset."
   ]
  },
  {
   "cell_type": "markdown",
   "id": "1420863a",
   "metadata": {},
   "source": [
    "## Tokenization"
   ]
  },
  {
   "cell_type": "markdown",
   "id": "ebbfc04c",
   "metadata": {},
   "source": [
    "Now create a function that will tokenize the text. You should also truncate longer sequences in the text to be no longer than the model’s maximum input length."
   ]
  },
  {
   "cell_type": "code",
   "execution_count": 64,
   "id": "1e3f87a3",
   "metadata": {},
   "outputs": [],
   "source": [
    "def tokenize_function(examples):\n",
    "    return tokenizer(examples['sentence'], padding='max_length', max_length=130, truncation=True)"
   ]
  },
  {
   "cell_type": "markdown",
   "id": "064b48bb",
   "metadata": {},
   "source": [
    "Use Huggingface Datasets map function to apply the preprocessing function to the entire dataset. You can also set batched=True to apply the preprocessing function to multiple elements of the dataset at once for faster preprocessing:"
   ]
  },
  {
   "cell_type": "code",
   "execution_count": 65,
   "id": "56c8cd37",
   "metadata": {},
   "outputs": [
    {
     "data": {
      "application/vnd.jupyter.widget-view+json": {
       "model_id": "",
       "version_major": 2,
       "version_minor": 0
      },
      "text/plain": [
       "Map:   0%|          | 0/1306 [00:00<?, ? examples/s]"
      ]
     },
     "metadata": {},
     "output_type": "display_data"
    },
    {
     "data": {
      "application/vnd.jupyter.widget-view+json": {
       "model_id": "",
       "version_major": 2,
       "version_minor": 0
      },
      "text/plain": [
       "Map:   0%|          | 0/163 [00:00<?, ? examples/s]"
      ]
     },
     "metadata": {},
     "output_type": "display_data"
    },
    {
     "data": {
      "application/vnd.jupyter.widget-view+json": {
       "model_id": "",
       "version_major": 2,
       "version_minor": 0
      },
      "text/plain": [
       "Map:   0%|          | 0/164 [00:00<?, ? examples/s]"
      ]
     },
     "metadata": {},
     "output_type": "display_data"
    },
    {
     "data": {
      "text/plain": [
       "DatasetDict({\n",
       "    train: Dataset({\n",
       "        features: ['sentence', 'label', 'input_ids', 'token_type_ids', 'attention_mask'],\n",
       "        num_rows: 1306\n",
       "    })\n",
       "    validate: Dataset({\n",
       "        features: ['sentence', 'label', 'input_ids', 'token_type_ids', 'attention_mask'],\n",
       "        num_rows: 163\n",
       "    })\n",
       "    test: Dataset({\n",
       "        features: ['sentence', 'label', 'input_ids', 'token_type_ids', 'attention_mask'],\n",
       "        num_rows: 164\n",
       "    })\n",
       "})"
      ]
     },
     "execution_count": 65,
     "metadata": {},
     "output_type": "execute_result"
    }
   ],
   "source": [
    "tokenized_datasets = dataset.map(tokenize_function, batched=True)\n",
    "tokenized_datasets"
   ]
  },
  {
   "cell_type": "markdown",
   "id": "aa17e70b",
   "metadata": {},
   "source": [
    "Now loads the accuracy evaluation metric, defines a function to compute metrics based on model predictions and true labels, and uses the loaded accuracy metric to compute the accuracy of the model's predictions."
   ]
  },
  {
   "cell_type": "code",
   "execution_count": 66,
   "id": "9e50fa1b",
   "metadata": {},
   "outputs": [],
   "source": [
    "metric = evaluate.load(\"accuracy\")\n",
    "def compute_metrics(eval_pred):\n",
    "    logits, labels = eval_pred\n",
    "    predictions = np.argmax(logits, axis=-1)\n",
    "    return metric.compute(predictions=predictions, references=labels)"
   ]
  },
  {
   "cell_type": "markdown",
   "id": "6471dfa9",
   "metadata": {},
   "source": [
    "1) Define training hyperparameters in TrainingArguments.\n",
    "2) Pass the training arguments to Trainer along with the model, dataset and tokenizer.\n",
    "3) Call train() to fine-tune your model."
   ]
  },
  {
   "cell_type": "code",
   "execution_count": 67,
   "id": "c11d9dce",
   "metadata": {},
   "outputs": [],
   "source": [
    "training_args = TrainingArguments(\n",
    "    output_dir=\"./fine_tuned_model_bcb/\",\n",
    "    per_device_train_batch_size=4,\n",
    "    per_device_eval_batch_size=4,\n",
    "    gradient_accumulation_steps=1,\n",
    "    learning_rate=1e-5,\n",
    "    warmup_steps=500,\n",
    "    max_steps=1000,\n",
    "    evaluation_strategy=\"steps\",\n",
    "    save_steps=500,\n",
    "    eval_steps=5,\n",
    "    logging_steps=5,\n",
    "    report_to=[\"tensorboard\"],\n",
    "    load_best_model_at_end=True,\n",
    "    greater_is_better=False,\n",
    "    push_to_hub=False,\n",
    ")"
   ]
  },
  {
   "cell_type": "code",
   "execution_count": 69,
   "id": "973dff98",
   "metadata": {},
   "outputs": [
    {
     "name": "stderr",
     "output_type": "stream",
     "text": [
      "Detected kernel version 4.15.0, which is below the recommended minimum of 5.5.0; this can cause the process to hang. It is recommended to upgrade the kernel to the minimum version or higher.\n"
     ]
    }
   ],
   "source": [
    "trainer = Trainer(\n",
    "    model=pre_trained_model,\n",
    "    args=training_args,\n",
    "    train_dataset=tokenized_datasets['train'],\n",
    "    eval_dataset=tokenized_datasets['validate'],\n",
    "    compute_metrics=compute_metrics,\n",
    "    tokenizer=tokenizer,\n",
    ")"
   ]
  },
  {
   "cell_type": "markdown",
   "id": "098c030c",
   "metadata": {},
   "source": [
    "Before training, navigate to the directory where checkpoints will be saved, which in my case is <b>/fine_tuned_model_bcb</b>, and execute the following command: <b>tensorboard --logdir=runs</b>. \n",
    "This command will serve TensorBoard on localhost at http://localhost:6006/."
   ]
  },
  {
   "cell_type": "markdown",
   "id": "a9d9f35c",
   "metadata": {},
   "source": [
    "## Start Training"
   ]
  },
  {
   "cell_type": "markdown",
   "id": "bd0862ae",
   "metadata": {},
   "source": [
    "To fine-tune the model on our dataset, we just have to call the train() method of our Trainer:"
   ]
  },
  {
   "cell_type": "code",
   "execution_count": 70,
   "id": "bd60cf35",
   "metadata": {
    "scrolled": true
   },
   "outputs": [
    {
     "data": {
      "text/html": [
       "\n",
       "    <div>\n",
       "      \n",
       "      <progress value='1000' max='1000' style='width:300px; height:20px; vertical-align: middle;'></progress>\n",
       "      [1000/1000 04:56, Epoch 3/4]\n",
       "    </div>\n",
       "    <table border=\"1\" class=\"dataframe\">\n",
       "  <thead>\n",
       " <tr style=\"text-align: left;\">\n",
       "      <th>Step</th>\n",
       "      <th>Training Loss</th>\n",
       "      <th>Validation Loss</th>\n",
       "      <th>Accuracy</th>\n",
       "    </tr>\n",
       "  </thead>\n",
       "  <tbody>\n",
       "    <tr>\n",
       "      <td>5</td>\n",
       "      <td>0.744200</td>\n",
       "      <td>0.693007</td>\n",
       "      <td>0.490798</td>\n",
       "    </tr>\n",
       "    <tr>\n",
       "      <td>10</td>\n",
       "      <td>0.697900</td>\n",
       "      <td>0.692967</td>\n",
       "      <td>0.490798</td>\n",
       "    </tr>\n",
       "    <tr>\n",
       "      <td>15</td>\n",
       "      <td>0.711000</td>\n",
       "      <td>0.692786</td>\n",
       "      <td>0.490798</td>\n",
       "    </tr>\n",
       "    <tr>\n",
       "      <td>20</td>\n",
       "      <td>0.755800</td>\n",
       "      <td>0.692275</td>\n",
       "      <td>0.496933</td>\n",
       "    </tr>\n",
       "    <tr>\n",
       "      <td>25</td>\n",
       "      <td>0.718900</td>\n",
       "      <td>0.691386</td>\n",
       "      <td>0.503067</td>\n",
       "    </tr>\n",
       "    <tr>\n",
       "      <td>30</td>\n",
       "      <td>0.697300</td>\n",
       "      <td>0.690529</td>\n",
       "      <td>0.515337</td>\n",
       "    </tr>\n",
       "    <tr>\n",
       "      <td>35</td>\n",
       "      <td>0.640400</td>\n",
       "      <td>0.690097</td>\n",
       "      <td>0.503067</td>\n",
       "    </tr>\n",
       "    <tr>\n",
       "      <td>40</td>\n",
       "      <td>0.677500</td>\n",
       "      <td>0.689422</td>\n",
       "      <td>0.503067</td>\n",
       "    </tr>\n",
       "    <tr>\n",
       "      <td>45</td>\n",
       "      <td>0.725700</td>\n",
       "      <td>0.688619</td>\n",
       "      <td>0.496933</td>\n",
       "    </tr>\n",
       "    <tr>\n",
       "      <td>50</td>\n",
       "      <td>0.735800</td>\n",
       "      <td>0.687395</td>\n",
       "      <td>0.509202</td>\n",
       "    </tr>\n",
       "    <tr>\n",
       "      <td>55</td>\n",
       "      <td>0.639900</td>\n",
       "      <td>0.685551</td>\n",
       "      <td>0.533742</td>\n",
       "    </tr>\n",
       "    <tr>\n",
       "      <td>60</td>\n",
       "      <td>0.700400</td>\n",
       "      <td>0.683457</td>\n",
       "      <td>0.539877</td>\n",
       "    </tr>\n",
       "    <tr>\n",
       "      <td>65</td>\n",
       "      <td>0.728300</td>\n",
       "      <td>0.681561</td>\n",
       "      <td>0.564417</td>\n",
       "    </tr>\n",
       "    <tr>\n",
       "      <td>70</td>\n",
       "      <td>0.680600</td>\n",
       "      <td>0.680150</td>\n",
       "      <td>0.570552</td>\n",
       "    </tr>\n",
       "    <tr>\n",
       "      <td>75</td>\n",
       "      <td>0.743100</td>\n",
       "      <td>0.679161</td>\n",
       "      <td>0.570552</td>\n",
       "    </tr>\n",
       "    <tr>\n",
       "      <td>80</td>\n",
       "      <td>0.719700</td>\n",
       "      <td>0.678400</td>\n",
       "      <td>0.570552</td>\n",
       "    </tr>\n",
       "    <tr>\n",
       "      <td>85</td>\n",
       "      <td>0.706300</td>\n",
       "      <td>0.677039</td>\n",
       "      <td>0.576687</td>\n",
       "    </tr>\n",
       "    <tr>\n",
       "      <td>90</td>\n",
       "      <td>0.694300</td>\n",
       "      <td>0.674931</td>\n",
       "      <td>0.588957</td>\n",
       "    </tr>\n",
       "    <tr>\n",
       "      <td>95</td>\n",
       "      <td>0.729000</td>\n",
       "      <td>0.672461</td>\n",
       "      <td>0.607362</td>\n",
       "    </tr>\n",
       "    <tr>\n",
       "      <td>100</td>\n",
       "      <td>0.658900</td>\n",
       "      <td>0.670780</td>\n",
       "      <td>0.613497</td>\n",
       "    </tr>\n",
       "    <tr>\n",
       "      <td>105</td>\n",
       "      <td>0.690400</td>\n",
       "      <td>0.669362</td>\n",
       "      <td>0.644172</td>\n",
       "    </tr>\n",
       "    <tr>\n",
       "      <td>110</td>\n",
       "      <td>0.671200</td>\n",
       "      <td>0.667144</td>\n",
       "      <td>0.674847</td>\n",
       "    </tr>\n",
       "    <tr>\n",
       "      <td>115</td>\n",
       "      <td>0.655100</td>\n",
       "      <td>0.664970</td>\n",
       "      <td>0.631902</td>\n",
       "    </tr>\n",
       "    <tr>\n",
       "      <td>120</td>\n",
       "      <td>0.705500</td>\n",
       "      <td>0.662833</td>\n",
       "      <td>0.644172</td>\n",
       "    </tr>\n",
       "    <tr>\n",
       "      <td>125</td>\n",
       "      <td>0.646000</td>\n",
       "      <td>0.660700</td>\n",
       "      <td>0.650307</td>\n",
       "    </tr>\n",
       "    <tr>\n",
       "      <td>130</td>\n",
       "      <td>0.679300</td>\n",
       "      <td>0.658474</td>\n",
       "      <td>0.638037</td>\n",
       "    </tr>\n",
       "    <tr>\n",
       "      <td>135</td>\n",
       "      <td>0.705000</td>\n",
       "      <td>0.656345</td>\n",
       "      <td>0.619632</td>\n",
       "    </tr>\n",
       "    <tr>\n",
       "      <td>140</td>\n",
       "      <td>0.722500</td>\n",
       "      <td>0.654594</td>\n",
       "      <td>0.631902</td>\n",
       "    </tr>\n",
       "    <tr>\n",
       "      <td>145</td>\n",
       "      <td>0.623300</td>\n",
       "      <td>0.652951</td>\n",
       "      <td>0.631902</td>\n",
       "    </tr>\n",
       "    <tr>\n",
       "      <td>150</td>\n",
       "      <td>0.660500</td>\n",
       "      <td>0.650990</td>\n",
       "      <td>0.625767</td>\n",
       "    </tr>\n",
       "    <tr>\n",
       "      <td>155</td>\n",
       "      <td>0.660300</td>\n",
       "      <td>0.648605</td>\n",
       "      <td>0.638037</td>\n",
       "    </tr>\n",
       "    <tr>\n",
       "      <td>160</td>\n",
       "      <td>0.648600</td>\n",
       "      <td>0.646236</td>\n",
       "      <td>0.644172</td>\n",
       "    </tr>\n",
       "    <tr>\n",
       "      <td>165</td>\n",
       "      <td>0.671600</td>\n",
       "      <td>0.644284</td>\n",
       "      <td>0.644172</td>\n",
       "    </tr>\n",
       "    <tr>\n",
       "      <td>170</td>\n",
       "      <td>0.655000</td>\n",
       "      <td>0.644009</td>\n",
       "      <td>0.662577</td>\n",
       "    </tr>\n",
       "    <tr>\n",
       "      <td>175</td>\n",
       "      <td>0.664800</td>\n",
       "      <td>0.643787</td>\n",
       "      <td>0.687117</td>\n",
       "    </tr>\n",
       "    <tr>\n",
       "      <td>180</td>\n",
       "      <td>0.654600</td>\n",
       "      <td>0.641812</td>\n",
       "      <td>0.742331</td>\n",
       "    </tr>\n",
       "    <tr>\n",
       "      <td>185</td>\n",
       "      <td>0.660500</td>\n",
       "      <td>0.638974</td>\n",
       "      <td>0.736196</td>\n",
       "    </tr>\n",
       "    <tr>\n",
       "      <td>190</td>\n",
       "      <td>0.606500</td>\n",
       "      <td>0.636357</td>\n",
       "      <td>0.760736</td>\n",
       "    </tr>\n",
       "    <tr>\n",
       "      <td>195</td>\n",
       "      <td>0.619200</td>\n",
       "      <td>0.630388</td>\n",
       "      <td>0.711656</td>\n",
       "    </tr>\n",
       "    <tr>\n",
       "      <td>200</td>\n",
       "      <td>0.614600</td>\n",
       "      <td>0.627909</td>\n",
       "      <td>0.730061</td>\n",
       "    </tr>\n",
       "    <tr>\n",
       "      <td>205</td>\n",
       "      <td>0.674300</td>\n",
       "      <td>0.628246</td>\n",
       "      <td>0.736196</td>\n",
       "    </tr>\n",
       "    <tr>\n",
       "      <td>210</td>\n",
       "      <td>0.647200</td>\n",
       "      <td>0.628909</td>\n",
       "      <td>0.730061</td>\n",
       "    </tr>\n",
       "    <tr>\n",
       "      <td>215</td>\n",
       "      <td>0.623900</td>\n",
       "      <td>0.618264</td>\n",
       "      <td>0.748466</td>\n",
       "    </tr>\n",
       "    <tr>\n",
       "      <td>220</td>\n",
       "      <td>0.595300</td>\n",
       "      <td>0.606238</td>\n",
       "      <td>0.736196</td>\n",
       "    </tr>\n",
       "    <tr>\n",
       "      <td>225</td>\n",
       "      <td>0.657300</td>\n",
       "      <td>0.603433</td>\n",
       "      <td>0.748466</td>\n",
       "    </tr>\n",
       "    <tr>\n",
       "      <td>230</td>\n",
       "      <td>0.641400</td>\n",
       "      <td>0.602268</td>\n",
       "      <td>0.736196</td>\n",
       "    </tr>\n",
       "    <tr>\n",
       "      <td>235</td>\n",
       "      <td>0.638700</td>\n",
       "      <td>0.600379</td>\n",
       "      <td>0.742331</td>\n",
       "    </tr>\n",
       "    <tr>\n",
       "      <td>240</td>\n",
       "      <td>0.658600</td>\n",
       "      <td>0.594677</td>\n",
       "      <td>0.736196</td>\n",
       "    </tr>\n",
       "    <tr>\n",
       "      <td>245</td>\n",
       "      <td>0.551800</td>\n",
       "      <td>0.588871</td>\n",
       "      <td>0.742331</td>\n",
       "    </tr>\n",
       "    <tr>\n",
       "      <td>250</td>\n",
       "      <td>0.627800</td>\n",
       "      <td>0.582078</td>\n",
       "      <td>0.748466</td>\n",
       "    </tr>\n",
       "    <tr>\n",
       "      <td>255</td>\n",
       "      <td>0.590700</td>\n",
       "      <td>0.574285</td>\n",
       "      <td>0.754601</td>\n",
       "    </tr>\n",
       "    <tr>\n",
       "      <td>260</td>\n",
       "      <td>0.595500</td>\n",
       "      <td>0.566926</td>\n",
       "      <td>0.773006</td>\n",
       "    </tr>\n",
       "    <tr>\n",
       "      <td>265</td>\n",
       "      <td>0.520400</td>\n",
       "      <td>0.558995</td>\n",
       "      <td>0.773006</td>\n",
       "    </tr>\n",
       "    <tr>\n",
       "      <td>270</td>\n",
       "      <td>0.595400</td>\n",
       "      <td>0.551564</td>\n",
       "      <td>0.779141</td>\n",
       "    </tr>\n",
       "    <tr>\n",
       "      <td>275</td>\n",
       "      <td>0.516400</td>\n",
       "      <td>0.541577</td>\n",
       "      <td>0.779141</td>\n",
       "    </tr>\n",
       "    <tr>\n",
       "      <td>280</td>\n",
       "      <td>0.447700</td>\n",
       "      <td>0.529196</td>\n",
       "      <td>0.791411</td>\n",
       "    </tr>\n",
       "    <tr>\n",
       "      <td>285</td>\n",
       "      <td>0.561100</td>\n",
       "      <td>0.521000</td>\n",
       "      <td>0.785276</td>\n",
       "    </tr>\n",
       "    <tr>\n",
       "      <td>290</td>\n",
       "      <td>0.529200</td>\n",
       "      <td>0.507430</td>\n",
       "      <td>0.779141</td>\n",
       "    </tr>\n",
       "    <tr>\n",
       "      <td>295</td>\n",
       "      <td>0.448800</td>\n",
       "      <td>0.495192</td>\n",
       "      <td>0.791411</td>\n",
       "    </tr>\n",
       "    <tr>\n",
       "      <td>300</td>\n",
       "      <td>0.493600</td>\n",
       "      <td>0.492257</td>\n",
       "      <td>0.791411</td>\n",
       "    </tr>\n",
       "    <tr>\n",
       "      <td>305</td>\n",
       "      <td>0.382700</td>\n",
       "      <td>0.475768</td>\n",
       "      <td>0.797546</td>\n",
       "    </tr>\n",
       "    <tr>\n",
       "      <td>310</td>\n",
       "      <td>0.549600</td>\n",
       "      <td>0.467008</td>\n",
       "      <td>0.803681</td>\n",
       "    </tr>\n",
       "    <tr>\n",
       "      <td>315</td>\n",
       "      <td>0.491300</td>\n",
       "      <td>0.453660</td>\n",
       "      <td>0.815951</td>\n",
       "    </tr>\n",
       "    <tr>\n",
       "      <td>320</td>\n",
       "      <td>0.476400</td>\n",
       "      <td>0.432001</td>\n",
       "      <td>0.828221</td>\n",
       "    </tr>\n",
       "    <tr>\n",
       "      <td>325</td>\n",
       "      <td>0.349200</td>\n",
       "      <td>0.423475</td>\n",
       "      <td>0.809816</td>\n",
       "    </tr>\n",
       "    <tr>\n",
       "      <td>330</td>\n",
       "      <td>0.293900</td>\n",
       "      <td>0.452242</td>\n",
       "      <td>0.809816</td>\n",
       "    </tr>\n",
       "    <tr>\n",
       "      <td>335</td>\n",
       "      <td>0.408500</td>\n",
       "      <td>0.463348</td>\n",
       "      <td>0.797546</td>\n",
       "    </tr>\n",
       "    <tr>\n",
       "      <td>340</td>\n",
       "      <td>0.603600</td>\n",
       "      <td>0.386835</td>\n",
       "      <td>0.840491</td>\n",
       "    </tr>\n",
       "    <tr>\n",
       "      <td>345</td>\n",
       "      <td>0.328700</td>\n",
       "      <td>0.390751</td>\n",
       "      <td>0.834356</td>\n",
       "    </tr>\n",
       "    <tr>\n",
       "      <td>350</td>\n",
       "      <td>0.495600</td>\n",
       "      <td>0.430570</td>\n",
       "      <td>0.815951</td>\n",
       "    </tr>\n",
       "    <tr>\n",
       "      <td>355</td>\n",
       "      <td>0.558800</td>\n",
       "      <td>0.383178</td>\n",
       "      <td>0.846626</td>\n",
       "    </tr>\n",
       "    <tr>\n",
       "      <td>360</td>\n",
       "      <td>0.195000</td>\n",
       "      <td>0.371515</td>\n",
       "      <td>0.852761</td>\n",
       "    </tr>\n",
       "    <tr>\n",
       "      <td>365</td>\n",
       "      <td>0.252400</td>\n",
       "      <td>0.353394</td>\n",
       "      <td>0.877301</td>\n",
       "    </tr>\n",
       "    <tr>\n",
       "      <td>370</td>\n",
       "      <td>0.277500</td>\n",
       "      <td>0.355028</td>\n",
       "      <td>0.858896</td>\n",
       "    </tr>\n",
       "    <tr>\n",
       "      <td>375</td>\n",
       "      <td>0.662000</td>\n",
       "      <td>0.359918</td>\n",
       "      <td>0.852761</td>\n",
       "    </tr>\n",
       "    <tr>\n",
       "      <td>380</td>\n",
       "      <td>0.341600</td>\n",
       "      <td>0.366626</td>\n",
       "      <td>0.840491</td>\n",
       "    </tr>\n",
       "    <tr>\n",
       "      <td>385</td>\n",
       "      <td>0.397000</td>\n",
       "      <td>0.352394</td>\n",
       "      <td>0.852761</td>\n",
       "    </tr>\n",
       "    <tr>\n",
       "      <td>390</td>\n",
       "      <td>0.458000</td>\n",
       "      <td>0.347865</td>\n",
       "      <td>0.871166</td>\n",
       "    </tr>\n",
       "    <tr>\n",
       "      <td>395</td>\n",
       "      <td>0.332600</td>\n",
       "      <td>0.365231</td>\n",
       "      <td>0.852761</td>\n",
       "    </tr>\n",
       "    <tr>\n",
       "      <td>400</td>\n",
       "      <td>0.261200</td>\n",
       "      <td>0.392296</td>\n",
       "      <td>0.840491</td>\n",
       "    </tr>\n",
       "    <tr>\n",
       "      <td>405</td>\n",
       "      <td>0.160700</td>\n",
       "      <td>0.371293</td>\n",
       "      <td>0.852761</td>\n",
       "    </tr>\n",
       "    <tr>\n",
       "      <td>410</td>\n",
       "      <td>0.282400</td>\n",
       "      <td>0.362860</td>\n",
       "      <td>0.889571</td>\n",
       "    </tr>\n",
       "    <tr>\n",
       "      <td>415</td>\n",
       "      <td>0.098100</td>\n",
       "      <td>0.443543</td>\n",
       "      <td>0.822086</td>\n",
       "    </tr>\n",
       "    <tr>\n",
       "      <td>420</td>\n",
       "      <td>0.643200</td>\n",
       "      <td>0.496372</td>\n",
       "      <td>0.803681</td>\n",
       "    </tr>\n",
       "    <tr>\n",
       "      <td>425</td>\n",
       "      <td>0.683900</td>\n",
       "      <td>0.381552</td>\n",
       "      <td>0.883436</td>\n",
       "    </tr>\n",
       "    <tr>\n",
       "      <td>430</td>\n",
       "      <td>0.078100</td>\n",
       "      <td>0.359784</td>\n",
       "      <td>0.871166</td>\n",
       "    </tr>\n",
       "    <tr>\n",
       "      <td>435</td>\n",
       "      <td>0.410100</td>\n",
       "      <td>0.367683</td>\n",
       "      <td>0.871166</td>\n",
       "    </tr>\n",
       "    <tr>\n",
       "      <td>440</td>\n",
       "      <td>0.393400</td>\n",
       "      <td>0.404336</td>\n",
       "      <td>0.858896</td>\n",
       "    </tr>\n",
       "    <tr>\n",
       "      <td>445</td>\n",
       "      <td>0.055900</td>\n",
       "      <td>0.420995</td>\n",
       "      <td>0.852761</td>\n",
       "    </tr>\n",
       "    <tr>\n",
       "      <td>450</td>\n",
       "      <td>0.220800</td>\n",
       "      <td>0.380446</td>\n",
       "      <td>0.865031</td>\n",
       "    </tr>\n",
       "    <tr>\n",
       "      <td>455</td>\n",
       "      <td>0.424200</td>\n",
       "      <td>0.391700</td>\n",
       "      <td>0.871166</td>\n",
       "    </tr>\n",
       "    <tr>\n",
       "      <td>460</td>\n",
       "      <td>0.469200</td>\n",
       "      <td>0.405871</td>\n",
       "      <td>0.871166</td>\n",
       "    </tr>\n",
       "    <tr>\n",
       "      <td>465</td>\n",
       "      <td>0.659700</td>\n",
       "      <td>0.398162</td>\n",
       "      <td>0.877301</td>\n",
       "    </tr>\n",
       "    <tr>\n",
       "      <td>470</td>\n",
       "      <td>0.426300</td>\n",
       "      <td>0.380889</td>\n",
       "      <td>0.877301</td>\n",
       "    </tr>\n",
       "    <tr>\n",
       "      <td>475</td>\n",
       "      <td>0.312000</td>\n",
       "      <td>0.384659</td>\n",
       "      <td>0.877301</td>\n",
       "    </tr>\n",
       "    <tr>\n",
       "      <td>480</td>\n",
       "      <td>0.230500</td>\n",
       "      <td>0.390052</td>\n",
       "      <td>0.871166</td>\n",
       "    </tr>\n",
       "    <tr>\n",
       "      <td>485</td>\n",
       "      <td>0.468100</td>\n",
       "      <td>0.402907</td>\n",
       "      <td>0.877301</td>\n",
       "    </tr>\n",
       "    <tr>\n",
       "      <td>490</td>\n",
       "      <td>0.218800</td>\n",
       "      <td>0.414927</td>\n",
       "      <td>0.877301</td>\n",
       "    </tr>\n",
       "    <tr>\n",
       "      <td>495</td>\n",
       "      <td>0.122700</td>\n",
       "      <td>0.419077</td>\n",
       "      <td>0.858896</td>\n",
       "    </tr>\n",
       "    <tr>\n",
       "      <td>500</td>\n",
       "      <td>0.859600</td>\n",
       "      <td>0.379329</td>\n",
       "      <td>0.889571</td>\n",
       "    </tr>\n",
       "    <tr>\n",
       "      <td>505</td>\n",
       "      <td>0.327000</td>\n",
       "      <td>0.370161</td>\n",
       "      <td>0.889571</td>\n",
       "    </tr>\n",
       "    <tr>\n",
       "      <td>510</td>\n",
       "      <td>0.101900</td>\n",
       "      <td>0.385530</td>\n",
       "      <td>0.895706</td>\n",
       "    </tr>\n",
       "    <tr>\n",
       "      <td>515</td>\n",
       "      <td>0.417200</td>\n",
       "      <td>0.423369</td>\n",
       "      <td>0.877301</td>\n",
       "    </tr>\n",
       "    <tr>\n",
       "      <td>520</td>\n",
       "      <td>0.440400</td>\n",
       "      <td>0.584981</td>\n",
       "      <td>0.803681</td>\n",
       "    </tr>\n",
       "    <tr>\n",
       "      <td>525</td>\n",
       "      <td>1.039100</td>\n",
       "      <td>0.628674</td>\n",
       "      <td>0.791411</td>\n",
       "    </tr>\n",
       "    <tr>\n",
       "      <td>530</td>\n",
       "      <td>0.467000</td>\n",
       "      <td>0.349918</td>\n",
       "      <td>0.889571</td>\n",
       "    </tr>\n",
       "    <tr>\n",
       "      <td>535</td>\n",
       "      <td>0.793400</td>\n",
       "      <td>0.277590</td>\n",
       "      <td>0.901840</td>\n",
       "    </tr>\n",
       "    <tr>\n",
       "      <td>540</td>\n",
       "      <td>0.792800</td>\n",
       "      <td>0.275456</td>\n",
       "      <td>0.920245</td>\n",
       "    </tr>\n",
       "    <tr>\n",
       "      <td>545</td>\n",
       "      <td>0.779400</td>\n",
       "      <td>0.268480</td>\n",
       "      <td>0.901840</td>\n",
       "    </tr>\n",
       "    <tr>\n",
       "      <td>550</td>\n",
       "      <td>0.360800</td>\n",
       "      <td>0.297239</td>\n",
       "      <td>0.907975</td>\n",
       "    </tr>\n",
       "    <tr>\n",
       "      <td>555</td>\n",
       "      <td>0.047900</td>\n",
       "      <td>0.275004</td>\n",
       "      <td>0.901840</td>\n",
       "    </tr>\n",
       "    <tr>\n",
       "      <td>560</td>\n",
       "      <td>0.524400</td>\n",
       "      <td>0.292898</td>\n",
       "      <td>0.907975</td>\n",
       "    </tr>\n",
       "    <tr>\n",
       "      <td>565</td>\n",
       "      <td>0.734900</td>\n",
       "      <td>0.300608</td>\n",
       "      <td>0.920245</td>\n",
       "    </tr>\n",
       "    <tr>\n",
       "      <td>570</td>\n",
       "      <td>0.321600</td>\n",
       "      <td>0.288637</td>\n",
       "      <td>0.895706</td>\n",
       "    </tr>\n",
       "    <tr>\n",
       "      <td>575</td>\n",
       "      <td>0.274200</td>\n",
       "      <td>0.315449</td>\n",
       "      <td>0.889571</td>\n",
       "    </tr>\n",
       "    <tr>\n",
       "      <td>580</td>\n",
       "      <td>0.472100</td>\n",
       "      <td>0.336927</td>\n",
       "      <td>0.895706</td>\n",
       "    </tr>\n",
       "    <tr>\n",
       "      <td>585</td>\n",
       "      <td>0.185200</td>\n",
       "      <td>0.338075</td>\n",
       "      <td>0.895706</td>\n",
       "    </tr>\n",
       "    <tr>\n",
       "      <td>590</td>\n",
       "      <td>0.169800</td>\n",
       "      <td>0.342598</td>\n",
       "      <td>0.883436</td>\n",
       "    </tr>\n",
       "    <tr>\n",
       "      <td>595</td>\n",
       "      <td>0.240400</td>\n",
       "      <td>0.356347</td>\n",
       "      <td>0.871166</td>\n",
       "    </tr>\n",
       "    <tr>\n",
       "      <td>600</td>\n",
       "      <td>0.182500</td>\n",
       "      <td>0.392413</td>\n",
       "      <td>0.883436</td>\n",
       "    </tr>\n",
       "    <tr>\n",
       "      <td>605</td>\n",
       "      <td>0.300500</td>\n",
       "      <td>0.422733</td>\n",
       "      <td>0.883436</td>\n",
       "    </tr>\n",
       "    <tr>\n",
       "      <td>610</td>\n",
       "      <td>0.306400</td>\n",
       "      <td>0.444664</td>\n",
       "      <td>0.883436</td>\n",
       "    </tr>\n",
       "    <tr>\n",
       "      <td>615</td>\n",
       "      <td>0.205300</td>\n",
       "      <td>0.386557</td>\n",
       "      <td>0.901840</td>\n",
       "    </tr>\n",
       "    <tr>\n",
       "      <td>620</td>\n",
       "      <td>0.018200</td>\n",
       "      <td>0.382426</td>\n",
       "      <td>0.901840</td>\n",
       "    </tr>\n",
       "    <tr>\n",
       "      <td>625</td>\n",
       "      <td>0.030200</td>\n",
       "      <td>0.302081</td>\n",
       "      <td>0.926380</td>\n",
       "    </tr>\n",
       "    <tr>\n",
       "      <td>630</td>\n",
       "      <td>0.685200</td>\n",
       "      <td>0.262986</td>\n",
       "      <td>0.920245</td>\n",
       "    </tr>\n",
       "    <tr>\n",
       "      <td>635</td>\n",
       "      <td>0.038800</td>\n",
       "      <td>0.288522</td>\n",
       "      <td>0.926380</td>\n",
       "    </tr>\n",
       "    <tr>\n",
       "      <td>640</td>\n",
       "      <td>0.032500</td>\n",
       "      <td>0.308538</td>\n",
       "      <td>0.907975</td>\n",
       "    </tr>\n",
       "    <tr>\n",
       "      <td>645</td>\n",
       "      <td>1.096300</td>\n",
       "      <td>0.296322</td>\n",
       "      <td>0.914110</td>\n",
       "    </tr>\n",
       "    <tr>\n",
       "      <td>650</td>\n",
       "      <td>0.457300</td>\n",
       "      <td>0.251022</td>\n",
       "      <td>0.944785</td>\n",
       "    </tr>\n",
       "    <tr>\n",
       "      <td>655</td>\n",
       "      <td>0.172400</td>\n",
       "      <td>0.268562</td>\n",
       "      <td>0.926380</td>\n",
       "    </tr>\n",
       "    <tr>\n",
       "      <td>660</td>\n",
       "      <td>0.264400</td>\n",
       "      <td>0.284824</td>\n",
       "      <td>0.920245</td>\n",
       "    </tr>\n",
       "    <tr>\n",
       "      <td>665</td>\n",
       "      <td>0.097000</td>\n",
       "      <td>0.297774</td>\n",
       "      <td>0.920245</td>\n",
       "    </tr>\n",
       "    <tr>\n",
       "      <td>670</td>\n",
       "      <td>0.272700</td>\n",
       "      <td>0.345816</td>\n",
       "      <td>0.920245</td>\n",
       "    </tr>\n",
       "    <tr>\n",
       "      <td>675</td>\n",
       "      <td>0.014100</td>\n",
       "      <td>0.371806</td>\n",
       "      <td>0.920245</td>\n",
       "    </tr>\n",
       "    <tr>\n",
       "      <td>680</td>\n",
       "      <td>0.004700</td>\n",
       "      <td>0.381311</td>\n",
       "      <td>0.914110</td>\n",
       "    </tr>\n",
       "    <tr>\n",
       "      <td>685</td>\n",
       "      <td>0.110300</td>\n",
       "      <td>0.351944</td>\n",
       "      <td>0.920245</td>\n",
       "    </tr>\n",
       "    <tr>\n",
       "      <td>690</td>\n",
       "      <td>0.026600</td>\n",
       "      <td>0.282707</td>\n",
       "      <td>0.914110</td>\n",
       "    </tr>\n",
       "    <tr>\n",
       "      <td>695</td>\n",
       "      <td>0.244800</td>\n",
       "      <td>0.278290</td>\n",
       "      <td>0.914110</td>\n",
       "    </tr>\n",
       "    <tr>\n",
       "      <td>700</td>\n",
       "      <td>0.121400</td>\n",
       "      <td>0.288564</td>\n",
       "      <td>0.914110</td>\n",
       "    </tr>\n",
       "    <tr>\n",
       "      <td>705</td>\n",
       "      <td>0.459000</td>\n",
       "      <td>0.319986</td>\n",
       "      <td>0.914110</td>\n",
       "    </tr>\n",
       "    <tr>\n",
       "      <td>710</td>\n",
       "      <td>0.011900</td>\n",
       "      <td>0.330732</td>\n",
       "      <td>0.926380</td>\n",
       "    </tr>\n",
       "    <tr>\n",
       "      <td>715</td>\n",
       "      <td>0.224400</td>\n",
       "      <td>0.332564</td>\n",
       "      <td>0.926380</td>\n",
       "    </tr>\n",
       "    <tr>\n",
       "      <td>720</td>\n",
       "      <td>0.080000</td>\n",
       "      <td>0.307664</td>\n",
       "      <td>0.920245</td>\n",
       "    </tr>\n",
       "    <tr>\n",
       "      <td>725</td>\n",
       "      <td>0.004400</td>\n",
       "      <td>0.299673</td>\n",
       "      <td>0.907975</td>\n",
       "    </tr>\n",
       "    <tr>\n",
       "      <td>730</td>\n",
       "      <td>0.300000</td>\n",
       "      <td>0.307511</td>\n",
       "      <td>0.914110</td>\n",
       "    </tr>\n",
       "    <tr>\n",
       "      <td>735</td>\n",
       "      <td>0.006700</td>\n",
       "      <td>0.326433</td>\n",
       "      <td>0.907975</td>\n",
       "    </tr>\n",
       "    <tr>\n",
       "      <td>740</td>\n",
       "      <td>0.010000</td>\n",
       "      <td>0.398898</td>\n",
       "      <td>0.920245</td>\n",
       "    </tr>\n",
       "    <tr>\n",
       "      <td>745</td>\n",
       "      <td>0.083300</td>\n",
       "      <td>0.447397</td>\n",
       "      <td>0.914110</td>\n",
       "    </tr>\n",
       "    <tr>\n",
       "      <td>750</td>\n",
       "      <td>0.242700</td>\n",
       "      <td>0.461221</td>\n",
       "      <td>0.914110</td>\n",
       "    </tr>\n",
       "    <tr>\n",
       "      <td>755</td>\n",
       "      <td>0.002600</td>\n",
       "      <td>0.459562</td>\n",
       "      <td>0.914110</td>\n",
       "    </tr>\n",
       "    <tr>\n",
       "      <td>760</td>\n",
       "      <td>0.003300</td>\n",
       "      <td>0.462796</td>\n",
       "      <td>0.914110</td>\n",
       "    </tr>\n",
       "    <tr>\n",
       "      <td>765</td>\n",
       "      <td>0.547200</td>\n",
       "      <td>0.433146</td>\n",
       "      <td>0.914110</td>\n",
       "    </tr>\n",
       "    <tr>\n",
       "      <td>770</td>\n",
       "      <td>0.288800</td>\n",
       "      <td>0.393483</td>\n",
       "      <td>0.914110</td>\n",
       "    </tr>\n",
       "    <tr>\n",
       "      <td>775</td>\n",
       "      <td>0.761500</td>\n",
       "      <td>0.360419</td>\n",
       "      <td>0.901840</td>\n",
       "    </tr>\n",
       "    <tr>\n",
       "      <td>780</td>\n",
       "      <td>0.051400</td>\n",
       "      <td>0.382489</td>\n",
       "      <td>0.907975</td>\n",
       "    </tr>\n",
       "    <tr>\n",
       "      <td>785</td>\n",
       "      <td>0.012900</td>\n",
       "      <td>0.418005</td>\n",
       "      <td>0.895706</td>\n",
       "    </tr>\n",
       "    <tr>\n",
       "      <td>790</td>\n",
       "      <td>0.123700</td>\n",
       "      <td>0.403719</td>\n",
       "      <td>0.901840</td>\n",
       "    </tr>\n",
       "    <tr>\n",
       "      <td>795</td>\n",
       "      <td>0.565600</td>\n",
       "      <td>0.385832</td>\n",
       "      <td>0.907975</td>\n",
       "    </tr>\n",
       "    <tr>\n",
       "      <td>800</td>\n",
       "      <td>0.286600</td>\n",
       "      <td>0.418646</td>\n",
       "      <td>0.914110</td>\n",
       "    </tr>\n",
       "    <tr>\n",
       "      <td>805</td>\n",
       "      <td>0.271700</td>\n",
       "      <td>0.482516</td>\n",
       "      <td>0.907975</td>\n",
       "    </tr>\n",
       "    <tr>\n",
       "      <td>810</td>\n",
       "      <td>0.954300</td>\n",
       "      <td>0.478548</td>\n",
       "      <td>0.907975</td>\n",
       "    </tr>\n",
       "    <tr>\n",
       "      <td>815</td>\n",
       "      <td>0.082400</td>\n",
       "      <td>0.453762</td>\n",
       "      <td>0.901840</td>\n",
       "    </tr>\n",
       "    <tr>\n",
       "      <td>820</td>\n",
       "      <td>0.006000</td>\n",
       "      <td>0.459372</td>\n",
       "      <td>0.895706</td>\n",
       "    </tr>\n",
       "    <tr>\n",
       "      <td>825</td>\n",
       "      <td>0.528200</td>\n",
       "      <td>0.473601</td>\n",
       "      <td>0.895706</td>\n",
       "    </tr>\n",
       "    <tr>\n",
       "      <td>830</td>\n",
       "      <td>0.826400</td>\n",
       "      <td>0.455546</td>\n",
       "      <td>0.889571</td>\n",
       "    </tr>\n",
       "    <tr>\n",
       "      <td>835</td>\n",
       "      <td>0.152100</td>\n",
       "      <td>0.444457</td>\n",
       "      <td>0.895706</td>\n",
       "    </tr>\n",
       "    <tr>\n",
       "      <td>840</td>\n",
       "      <td>0.186200</td>\n",
       "      <td>0.446537</td>\n",
       "      <td>0.889571</td>\n",
       "    </tr>\n",
       "    <tr>\n",
       "      <td>845</td>\n",
       "      <td>0.422500</td>\n",
       "      <td>0.453951</td>\n",
       "      <td>0.895706</td>\n",
       "    </tr>\n",
       "    <tr>\n",
       "      <td>850</td>\n",
       "      <td>0.692400</td>\n",
       "      <td>0.466219</td>\n",
       "      <td>0.889571</td>\n",
       "    </tr>\n",
       "    <tr>\n",
       "      <td>855</td>\n",
       "      <td>0.375600</td>\n",
       "      <td>0.463933</td>\n",
       "      <td>0.883436</td>\n",
       "    </tr>\n",
       "    <tr>\n",
       "      <td>860</td>\n",
       "      <td>0.007500</td>\n",
       "      <td>0.455944</td>\n",
       "      <td>0.877301</td>\n",
       "    </tr>\n",
       "    <tr>\n",
       "      <td>865</td>\n",
       "      <td>0.647600</td>\n",
       "      <td>0.459176</td>\n",
       "      <td>0.889571</td>\n",
       "    </tr>\n",
       "    <tr>\n",
       "      <td>870</td>\n",
       "      <td>0.479700</td>\n",
       "      <td>0.458758</td>\n",
       "      <td>0.883436</td>\n",
       "    </tr>\n",
       "    <tr>\n",
       "      <td>875</td>\n",
       "      <td>0.331000</td>\n",
       "      <td>0.446983</td>\n",
       "      <td>0.889571</td>\n",
       "    </tr>\n",
       "    <tr>\n",
       "      <td>880</td>\n",
       "      <td>0.194700</td>\n",
       "      <td>0.441735</td>\n",
       "      <td>0.883436</td>\n",
       "    </tr>\n",
       "    <tr>\n",
       "      <td>885</td>\n",
       "      <td>0.025300</td>\n",
       "      <td>0.436627</td>\n",
       "      <td>0.889571</td>\n",
       "    </tr>\n",
       "    <tr>\n",
       "      <td>890</td>\n",
       "      <td>0.238900</td>\n",
       "      <td>0.434400</td>\n",
       "      <td>0.889571</td>\n",
       "    </tr>\n",
       "    <tr>\n",
       "      <td>895</td>\n",
       "      <td>0.408200</td>\n",
       "      <td>0.437151</td>\n",
       "      <td>0.895706</td>\n",
       "    </tr>\n",
       "    <tr>\n",
       "      <td>900</td>\n",
       "      <td>0.005200</td>\n",
       "      <td>0.438662</td>\n",
       "      <td>0.895706</td>\n",
       "    </tr>\n",
       "    <tr>\n",
       "      <td>905</td>\n",
       "      <td>0.005600</td>\n",
       "      <td>0.440164</td>\n",
       "      <td>0.895706</td>\n",
       "    </tr>\n",
       "    <tr>\n",
       "      <td>910</td>\n",
       "      <td>0.551000</td>\n",
       "      <td>0.442990</td>\n",
       "      <td>0.889571</td>\n",
       "    </tr>\n",
       "    <tr>\n",
       "      <td>915</td>\n",
       "      <td>0.374800</td>\n",
       "      <td>0.438991</td>\n",
       "      <td>0.895706</td>\n",
       "    </tr>\n",
       "    <tr>\n",
       "      <td>920</td>\n",
       "      <td>0.354300</td>\n",
       "      <td>0.431233</td>\n",
       "      <td>0.895706</td>\n",
       "    </tr>\n",
       "    <tr>\n",
       "      <td>925</td>\n",
       "      <td>0.003500</td>\n",
       "      <td>0.425595</td>\n",
       "      <td>0.889571</td>\n",
       "    </tr>\n",
       "    <tr>\n",
       "      <td>930</td>\n",
       "      <td>0.008900</td>\n",
       "      <td>0.419712</td>\n",
       "      <td>0.895706</td>\n",
       "    </tr>\n",
       "    <tr>\n",
       "      <td>935</td>\n",
       "      <td>0.030600</td>\n",
       "      <td>0.415346</td>\n",
       "      <td>0.895706</td>\n",
       "    </tr>\n",
       "    <tr>\n",
       "      <td>940</td>\n",
       "      <td>0.397400</td>\n",
       "      <td>0.412214</td>\n",
       "      <td>0.895706</td>\n",
       "    </tr>\n",
       "    <tr>\n",
       "      <td>945</td>\n",
       "      <td>0.003100</td>\n",
       "      <td>0.408848</td>\n",
       "      <td>0.895706</td>\n",
       "    </tr>\n",
       "    <tr>\n",
       "      <td>950</td>\n",
       "      <td>0.026800</td>\n",
       "      <td>0.406165</td>\n",
       "      <td>0.895706</td>\n",
       "    </tr>\n",
       "    <tr>\n",
       "      <td>955</td>\n",
       "      <td>0.883200</td>\n",
       "      <td>0.402410</td>\n",
       "      <td>0.895706</td>\n",
       "    </tr>\n",
       "    <tr>\n",
       "      <td>960</td>\n",
       "      <td>0.505800</td>\n",
       "      <td>0.397569</td>\n",
       "      <td>0.895706</td>\n",
       "    </tr>\n",
       "    <tr>\n",
       "      <td>965</td>\n",
       "      <td>0.092200</td>\n",
       "      <td>0.394934</td>\n",
       "      <td>0.895706</td>\n",
       "    </tr>\n",
       "    <tr>\n",
       "      <td>970</td>\n",
       "      <td>0.208500</td>\n",
       "      <td>0.395384</td>\n",
       "      <td>0.895706</td>\n",
       "    </tr>\n",
       "    <tr>\n",
       "      <td>975</td>\n",
       "      <td>0.003500</td>\n",
       "      <td>0.396456</td>\n",
       "      <td>0.901840</td>\n",
       "    </tr>\n",
       "    <tr>\n",
       "      <td>980</td>\n",
       "      <td>0.003900</td>\n",
       "      <td>0.397296</td>\n",
       "      <td>0.901840</td>\n",
       "    </tr>\n",
       "    <tr>\n",
       "      <td>985</td>\n",
       "      <td>0.002300</td>\n",
       "      <td>0.398135</td>\n",
       "      <td>0.895706</td>\n",
       "    </tr>\n",
       "    <tr>\n",
       "      <td>990</td>\n",
       "      <td>0.288400</td>\n",
       "      <td>0.398815</td>\n",
       "      <td>0.895706</td>\n",
       "    </tr>\n",
       "    <tr>\n",
       "      <td>995</td>\n",
       "      <td>0.037600</td>\n",
       "      <td>0.399045</td>\n",
       "      <td>0.895706</td>\n",
       "    </tr>\n",
       "    <tr>\n",
       "      <td>1000</td>\n",
       "      <td>0.286100</td>\n",
       "      <td>0.398943</td>\n",
       "      <td>0.895706</td>\n",
       "    </tr>\n",
       "  </tbody>\n",
       "</table><p>"
      ],
      "text/plain": [
       "<IPython.core.display.HTML object>"
      ]
     },
     "metadata": {},
     "output_type": "display_data"
    },
    {
     "data": {
      "text/plain": [
       "TrainOutput(global_step=1000, training_loss=0.4120384232858196, metrics={'train_runtime': 297.1089, 'train_samples_per_second': 13.463, 'train_steps_per_second': 3.366, 'total_flos': 266821332351600.0, 'train_loss': 0.4120384232858196, 'epoch': 3.06})"
      ]
     },
     "execution_count": 70,
     "metadata": {},
     "output_type": "execute_result"
    }
   ],
   "source": [
    "trainer.train()"
   ]
  },
  {
   "cell_type": "markdown",
   "id": "c8b097ea",
   "metadata": {},
   "source": [
    "Save the fine-tuned model"
   ]
  },
  {
   "cell_type": "code",
   "execution_count": null,
   "id": "743786ab",
   "metadata": {},
   "outputs": [],
   "source": [
    "# trainer.save_model()"
   ]
  },
  {
   "cell_type": "code",
   "execution_count": 71,
   "id": "6328a3f4",
   "metadata": {},
   "outputs": [
    {
     "data": {
      "text/html": [],
      "text/plain": [
       "<IPython.core.display.HTML object>"
      ]
     },
     "metadata": {},
     "output_type": "display_data"
    }
   ],
   "source": [
    "predictions = trainer.predict(tokenized_datasets['test'])\n",
    "predictions = list(np.argmax(predictions.predictions, axis=-1))"
   ]
  },
  {
   "cell_type": "code",
   "execution_count": 72,
   "id": "fbe92eb5",
   "metadata": {},
   "outputs": [
    {
     "data": {
      "image/png": "[encoded data removed]",
      "text/plain": [
       "<Figure size 640x480 with 2 Axes>"
      ]
     },
     "metadata": {},
     "output_type": "display_data"
    }
   ],
   "source": [
    "# Get true labels\n",
    "true_labels = dataset['test']['label']\n",
    "\n",
    "# Compute confusion matrix\n",
    "conf_matrix = confusion_matrix(true_labels, predictions)\n",
    "cm_display = metrics.ConfusionMatrixDisplay(confusion_matrix = conf_matrix, display_labels = [False, True])\n",
    "cm_display.plot()\n",
    "plt.show()"
   ]
  },
  {
   "cell_type": "code",
   "execution_count": 73,
   "id": "885fcdd5",
   "metadata": {
    "scrolled": true
   },
   "outputs": [
    {
     "data": {
      "text/plain": [
       "0.9085365853658537"
      ]
     },
     "execution_count": 73,
     "metadata": {},
     "output_type": "execute_result"
    }
   ],
   "source": [
    "accuracy = accuracy_score(true_labels, predictions)\n",
    "accuracy"
   ]
  },
  {
   "cell_type": "markdown",
   "id": "cf950627",
   "metadata": {},
   "source": [
    "Here you can see that after fine-tuning, we achieved a 95% accuracy on the test dataset."
   ]
  },
  {
   "cell_type": "code",
   "execution_count": null,
   "id": "950e6cda",
   "metadata": {},
   "outputs": [],
   "source": []
  },
  {
   "cell_type": "code",
   "execution_count": null,
   "id": "e03d76d9",
   "metadata": {},
   "outputs": [],
   "source": []
  }
 ],
 "metadata": {
  "kernelspec": {
   "display_name": "Python 3 (ipykernel)",
   "language": "python",
   "name": "python3"
  },
  "language_info": {
   "codemirror_mode": {
    "name": "ipython",
    "version": 3
   },
   "file_extension": ".py",
   "mimetype": "text/x-python",
   "name": "python",
   "nbconvert_exporter": "python",
   "pygments_lexer": "ipython3",
   "version": "3.8.12"
  }
 },
 "nbformat": 4,
 "nbformat_minor": 5
}
